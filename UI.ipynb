{
 "cells": [
  {
   "cell_type": "code",
   "execution_count": 32,
   "metadata": {},
   "outputs": [
    {
     "ename": "KeyboardInterrupt",
     "evalue": "",
     "output_type": "error",
     "traceback": [
      "\u001b[1;31m---------------------------------------------------------------------------\u001b[0m",
      "\u001b[1;31mKeyboardInterrupt\u001b[0m                         Traceback (most recent call last)",
      "Cell \u001b[1;32mIn[32], line 14\u001b[0m\n\u001b[0;32m     12\u001b[0m entry\u001b[38;5;241m.\u001b[39mpack(side\u001b[38;5;241m=\u001b[39mtk\u001b[38;5;241m.\u001b[39mLEFT)\n\u001b[0;32m     13\u001b[0m button\u001b[38;5;241m.\u001b[39mpack(side\u001b[38;5;241m=\u001b[39mtk\u001b[38;5;241m.\u001b[39mRIGHT)\n\u001b[1;32m---> 14\u001b[0m \u001b[43mwindow\u001b[49m\u001b[38;5;241;43m.\u001b[39;49m\u001b[43mmainloop\u001b[49m\u001b[43m(\u001b[49m\u001b[43m)\u001b[49m\n",
      "File \u001b[1;32mc:\\Program Files\\Python38\\lib\\tkinter\\__init__.py:1420\u001b[0m, in \u001b[0;36mMisc.mainloop\u001b[1;34m(self, n)\u001b[0m\n\u001b[0;32m   1418\u001b[0m \u001b[38;5;28;01mdef\u001b[39;00m \u001b[38;5;21mmainloop\u001b[39m(\u001b[38;5;28mself\u001b[39m, n\u001b[38;5;241m=\u001b[39m\u001b[38;5;241m0\u001b[39m):\n\u001b[0;32m   1419\u001b[0m \u001b[38;5;250m    \u001b[39m\u001b[38;5;124;03m\"\"\"Call the mainloop of Tk.\"\"\"\u001b[39;00m\n\u001b[1;32m-> 1420\u001b[0m     \u001b[38;5;28;43mself\u001b[39;49m\u001b[38;5;241;43m.\u001b[39;49m\u001b[43mtk\u001b[49m\u001b[38;5;241;43m.\u001b[39;49m\u001b[43mmainloop\u001b[49m\u001b[43m(\u001b[49m\u001b[43mn\u001b[49m\u001b[43m)\u001b[49m\n",
      "\u001b[1;31mKeyboardInterrupt\u001b[0m: "
     ]
    }
   ],
   "source": [
    "window = tk.Tk()\n",
    "frame_a=tk.Frame()\n",
    "frame_b=tk.Frame()\n",
    "greeting=tk.Label(text=\"Hello, Tkinter\", master = frame_a)\n",
    "label=tk.Label(text=\"Hello, Tkinter\", width=10,height=10, master = frame_b)\n",
    "entry=tk.Text(fg=\"yellow\",bg=\"blue\",width=50, master = frame_b)\n",
    "button=tk.Button(text=\"Click me!\",width=25,height=5,bg=\"blue\",fg=\"yellow\", master = frame_a)\n",
    "frame_a.pack(side=tk.LEFT)\n",
    "frame_b.pack(side=tk.RIGHT)\n",
    "greeting.pack()\n",
    "label.pack()\n",
    "entry.pack(side=tk.LEFT)\n",
    "button.pack(side=tk.RIGHT)\n",
    "window.mainloop()"
   ]
  },
  {
   "cell_type": "code",
   "execution_count": 2,
   "metadata": {},
   "outputs": [],
   "source": [
    "import tkinter as tk\n",
    "app = tk.Tk()\n",
    "app.rowconfigure(0, minsize=800, weight=1)\n",
    "app.columnconfigure(1, minsize=800, weight=1)\n",
    "txt_edit = tk.Text(app)\n",
    "result = tk.Text()\n",
    "frm_buttons = tk.Frame(app, relief=tk.RAISED, bd=2)\n",
    "btn_open = tk.Button(frm_buttons, text=\"Open\")\n",
    "btn_save = tk.Button(frm_buttons, text=\"Save As...\")\n",
    "\n",
    "btn_open.grid(row=0, column=0, sticky=\"ew\", padx=5, pady=5)\n",
    "btn_save.grid(row=1, column=0, sticky=\"ew\", padx=5)\n",
    "result.grid(row = 0, column = 2)\n",
    "frm_buttons.grid(row=0, column=0, sticky=\"ns\")\n",
    "txt_edit.grid(row=0, column=1, sticky=\"nsew\")\n",
    "\n",
    "app.mainloop()"
   ]
  },
  {
   "cell_type": "code",
   "execution_count": 75,
   "metadata": {},
   "outputs": [],
   "source": [
    "import pandas as pd\n",
    "import zipfile\n",
    "import matplotlib.pyplot as plt\n",
    "from matplotlib.backends.backend_tkagg import FigureCanvasTkAgg"
   ]
  },
  {
   "cell_type": "code",
   "execution_count": 2,
   "metadata": {},
   "outputs": [],
   "source": [
    "btn_color = 'blue'"
   ]
  },
  {
   "cell_type": "code",
   "execution_count": 90,
   "metadata": {},
   "outputs": [],
   "source": [
    "import matplotlib.pyplot as plt\n",
    "import seaborn as sns\n",
    "import numpy as np\n",
    "import math\n",
    "\n",
    "import pandas as pd\n",
    "from sklearn.preprocessing import OneHotEncoder, LabelEncoder\n",
    "\n",
    "def encode_categorical(dataframe, categorical_columns):\n",
    "    print(categorical_columns)\n",
    "    encoder = OneHotEncoder(sparse=False)\n",
    "    for col in categorical_columns:\n",
    "            encoded = encoder.fit_transform(dataframe[[col]])\n",
    "            encoded_df = pd.DataFrame(encoded, columns=[f\"{col}_{category}\" for category in encoder.categories_[0]])\n",
    "            dataframe = pd.concat([dataframe, encoded_df], axis=1).drop(col, axis=1)\n",
    "    print(dataframe)\n",
    "    return dataframe\n",
    "\n",
    "def compute_and_visualize_correlation(dataframe, target_column):\n",
    "    correlation_matrix = dataframe.corr()\n",
    "    plt.figure(figsize=(12, 8))\n",
    "    sns.heatmap(correlation_matrix, annot=True, fmt='.2f', cmap='coolwarm')\n",
    "    plt.show()\n",
    "    return correlation_matrix[target_column].sort_values(ascending=False)\n",
    "\n",
    "def identify_high_correlation(dataframe, threshold=0.8):\n",
    "    correlation_matrix = dataframe.corr()\n",
    "    high_correlation = set()\n",
    "\n",
    "    for i in range(len(correlation_matrix.columns)):\n",
    "        for j in range(i):\n",
    "            if abs(correlation_matrix.iloc[i, j]) > threshold:\n",
    "                colname = correlation_matrix.columns[i]\n",
    "                high_correlation.add(colname)\n",
    "\n",
    "    return high_correlation\n",
    "\n",
    "def remove_outliers_using_percentiles(data, continious_columns, lower_percentile=0.25, upper_percentile=0.95, multiplier=1.5):\n",
    "    numeric_data = data[continious_columns]\n",
    "    Q1 = numeric_data.quantile(lower_percentile)\n",
    "    Q3 = numeric_data.quantile(upper_percentile)\n",
    "    IQR = Q3 - Q1\n",
    "    filtered_data = data[~((numeric_data < (Q1 - multiplier * IQR)) | (numeric_data > (Q3 + multiplier * IQR))).any(axis=1)]\n",
    "    return filtered_data\n",
    "\n",
    "def get_columns_info(data):\n",
    "    column_types = data.columns.to_series().groupby(data.dtypes).groups\n",
    "    categorial = [column for column in data.columns if len(data[column].unique()) < 10]\n",
    "    continious_columns = [column for key in column_types for column in column_types[key] if key!=\"object\" and column not in categorial]\n",
    "    print(categorial)\n",
    "    print(continious_columns)\n",
    "    return (categorial, continious_columns)\n",
    "\n",
    "def remove_na(data):\n",
    "    old_size = len(data)\n",
    "    cleaned_data = data.dropna()\n",
    "    new_size = len(cleaned_data)\n",
    "\n",
    "    if old_size!=new_size:\n",
    "        print(f'There were {old_size - new_size} records removed')\n",
    "    else:\n",
    "        print(\"No missing data\")\n",
    "    return cleaned_data\n",
    "\n",
    "def process_columns(data):\n",
    "    cleaned_data = remove_na(data)\n",
    "    categorical_cols, continuous_cols = get_columns_info(cleaned_data)\n",
    "    cleaned_data = remove_outliers_using_percentiles(cleaned_data, continuous_cols)\n",
    "    cleaned_data = cleaned_data[categorical_cols+continuous_cols]\n",
    "    total_cols = len(categorical_cols) + len(continuous_cols)\n",
    "    cols_per_row = 3 \n",
    "    rows = math.ceil(total_cols / cols_per_row)\n",
    "    fig, axes = plt.subplots(rows, cols_per_row, figsize=(15, 5 * rows))\n",
    "    axes = axes.flatten()\n",
    "    for idx, col in enumerate(categorical_cols):\n",
    "        proportion = cleaned_data[col].value_counts(normalize=True)\n",
    "        sns.barplot(x=proportion.index, y=proportion.values, ax=axes[idx])\n",
    "        axes[idx].set_title(f'Proportions for {col}')\n",
    "        axes[idx].set_ylabel('Proportion')\n",
    "        axes[idx].set_xlabel(col)\n",
    "    for idx, col in enumerate(continuous_cols, start=len(categorical_cols)):\n",
    "        sns.kdeplot(cleaned_data[col], fill=True, ax=axes[idx])\n",
    "        axes[idx].set_title(f'Density for {col}')\n",
    "        axes[idx].set_ylabel('Density')\n",
    "        axes[idx].set_xlabel(col)\n",
    "    for ax in axes[len(categorical_cols) + len(continuous_cols):]:\n",
    "        ax.axis('off')"
   ]
  },
  {
   "cell_type": "code",
   "execution_count": 95,
   "metadata": {},
   "outputs": [],
   "source": [
    "def get_text():\n",
    "    name = df_name.get()\n",
    "    df_name2.insert(0, name)\n",
    "    with zipfile.ZipFile(name, 'r') as z:\n",
    "        with z.open('train.csv') as f:\n",
    "            data = pd.read_csv(f)\n",
    "    df_head.insert(\"0.0\", str(data.head()))\n",
    "\n",
    "    cleaned_data = remove_na(data)\n",
    "    categorical_cols, continuous_cols = get_columns_info(cleaned_data)\n",
    "    cleaned_data = remove_outliers_using_percentiles(cleaned_data, continuous_cols)\n",
    "    cleaned_data = cleaned_data[categorical_cols+continuous_cols]\n",
    "    total_cols = len(categorical_cols) + len(continuous_cols)\n",
    "    cols_per_row = 3 \n",
    "    rows = math.ceil(total_cols / cols_per_row)\n",
    "    fig, axes = plt.subplots(rows, cols_per_row, figsize=(15, 5 * rows))\n",
    "    axes = axes.flatten()\n",
    "    for idx, col in enumerate(categorical_cols):\n",
    "        proportion = cleaned_data[col].value_counts(normalize=True)\n",
    "        sns.barplot(x=proportion.index, y=proportion.values, ax=axes[idx])\n",
    "        axes[idx].set_title(f'Proportions for {col}')\n",
    "        axes[idx].set_ylabel('Proportion')\n",
    "        axes[idx].set_xlabel(col)\n",
    "    for idx, col in enumerate(continuous_cols, start=len(categorical_cols)):\n",
    "        sns.kdeplot(cleaned_data[col], fill=True, ax=axes[idx])\n",
    "        axes[idx].set_title(f'Density for {col}')\n",
    "        axes[idx].set_ylabel('Density')\n",
    "        axes[idx].set_xlabel(col)\n",
    "    for ax in axes[len(categorical_cols) + len(continuous_cols):]:\n",
    "        ax.axis('off')\n",
    "    canvas.figure = fig\n",
    "    canvas.draw()\n",
    "\n",
    "    "
   ]
  },
  {
   "cell_type": "code",
   "execution_count": 96,
   "metadata": {},
   "outputs": [
    {
     "name": "stdout",
     "output_type": "stream",
     "text": [
      "There were 29 records removed\n",
      "['Gender', 'MaritalStatus', 'DependentChildren', 'DependentsOther', 'PartTimeFullTime', 'DaysWorkedPerWeek']\n",
      "['Age', 'InitialIncurredCalimsCost', 'WeeklyWages', 'HoursWorkedPerWeek', 'UltimateIncurredClaimCost']\n"
     ]
    }
   ],
   "source": [
    "import tkinter as tk \n",
    "\n",
    "user_interface = tk.Tk()\n",
    "\n",
    "user_interface.rowconfigure(0, minsize=10, weight=1)\n",
    "user_interface.columnconfigure(1, minsize=10, weight=1)\n",
    "\n",
    "df_frame = tk.Frame(master = user_interface)\n",
    "df_frame2 = tk.Frame(master = user_interface)\n",
    "\n",
    "df_frame.grid(row = 0, column = 0)\n",
    "df_frame2.grid(row = 0, column = 1)\n",
    "\n",
    "btn_read_csv = tk.Button(master = df_frame, text = \"Read File\", bg=btn_color, command = get_text)\n",
    "fig, ax = plt.subplots()\n",
    "canvas = FigureCanvasTkAgg(fig, master = df_frame2)\n",
    "\n",
    "df_name = tk.Entry(df_frame)\n",
    "df_name2 = tk.Entry(df_frame)\n",
    "lbl_name = tk.Label(df_frame, text = \"Dataset Name\")\n",
    "df_head = tk.Text(df_frame2)\n",
    "\n",
    "# df_frame2.grid(row = 1, column = 1)\n",
    "\n",
    "btn_read_csv.pack()\n",
    "df_name.pack()\n",
    "df_name2.pack()\n",
    "df_head.pack()\n",
    "canvas.get_tk_widget().pack()\n",
    "\n",
    "# lbl_name.grid(row = 1, column = 1)\n",
    "\n",
    "user_interface.mainloop()\n"
   ]
  },
  {
   "cell_type": "code",
   "execution_count": 54,
   "metadata": {},
   "outputs": [],
   "source": [
    "import tkinter as tk\n",
    "\n",
    "window = tk.Tk()\n",
    "\n",
    "for i in range(3):\n",
    "    for j in range(3):\n",
    "        frame = tk.Frame(\n",
    "            master=window,\n",
    "            relief=tk.RAISED,\n",
    "            borderwidth=1\n",
    "        )\n",
    "        frame.grid(row=i, column=j)\n",
    "        label = tk.Label(master=frame, text=f\"Row {i}\\nColumn {j}\")\n",
    "        label.pack()\n",
    "\n",
    "window.mainloop()"
   ]
  },
  {
   "cell_type": "code",
   "execution_count": 19,
   "metadata": {},
   "outputs": [
    {
     "ename": "KeyboardInterrupt",
     "evalue": "",
     "output_type": "error",
     "traceback": [
      "\u001b[1;31m---------------------------------------------------------------------------\u001b[0m",
      "\u001b[1;31mKeyboardInterrupt\u001b[0m                         Traceback (most recent call last)",
      "Cell \u001b[1;32mIn[19], line 9\u001b[0m\n\u001b[0;32m      7\u001b[0m label2\u001b[38;5;241m.\u001b[39mgrid(row \u001b[38;5;241m=\u001b[39m \u001b[38;5;241m1\u001b[39m, column \u001b[38;5;241m=\u001b[39m \u001b[38;5;241m1\u001b[39m)\n\u001b[0;32m      8\u001b[0m entry\u001b[38;5;241m.\u001b[39mgrid(row \u001b[38;5;241m=\u001b[39m \u001b[38;5;241m2\u001b[39m, column \u001b[38;5;241m=\u001b[39m \u001b[38;5;241m2\u001b[39m)\n\u001b[1;32m----> 9\u001b[0m \u001b[43mtest\u001b[49m\u001b[38;5;241;43m.\u001b[39;49m\u001b[43mmainloop\u001b[49m\u001b[43m(\u001b[49m\u001b[43m)\u001b[49m\n",
      "File \u001b[1;32mc:\\Program Files\\Python38\\lib\\tkinter\\__init__.py:1420\u001b[0m, in \u001b[0;36mMisc.mainloop\u001b[1;34m(self, n)\u001b[0m\n\u001b[0;32m   1418\u001b[0m \u001b[38;5;28;01mdef\u001b[39;00m \u001b[38;5;21mmainloop\u001b[39m(\u001b[38;5;28mself\u001b[39m, n\u001b[38;5;241m=\u001b[39m\u001b[38;5;241m0\u001b[39m):\n\u001b[0;32m   1419\u001b[0m \u001b[38;5;250m    \u001b[39m\u001b[38;5;124;03m\"\"\"Call the mainloop of Tk.\"\"\"\u001b[39;00m\n\u001b[1;32m-> 1420\u001b[0m     \u001b[38;5;28;43mself\u001b[39;49m\u001b[38;5;241;43m.\u001b[39;49m\u001b[43mtk\u001b[49m\u001b[38;5;241;43m.\u001b[39;49m\u001b[43mmainloop\u001b[49m\u001b[43m(\u001b[49m\u001b[43mn\u001b[49m\u001b[43m)\u001b[49m\n",
      "\u001b[1;31mKeyboardInterrupt\u001b[0m: "
     ]
    }
   ],
   "source": [
    "test = tk.Tk()\n",
    "\n",
    "label = tk.Label(text = \"My Text\", bg = \"blue\", width=10, height=10)\n",
    "label2 = tk.Label(text = \"My Text2\")\n",
    "entry = tk.Entry()\n",
    "label.grid(row = 0, column = 0)\n",
    "label2.grid(row = 1, column = 1)\n",
    "entry.grid(row = 2, column = 2)\n",
    "test.mainloop()"
   ]
  },
  {
   "cell_type": "code",
   "execution_count": 20,
   "metadata": {},
   "outputs": [
    {
     "data": {
      "text/plain": [
       "'5323'"
      ]
     },
     "execution_count": 20,
     "metadata": {},
     "output_type": "execute_result"
    }
   ],
   "source": [
    "entry.get()"
   ]
  }
 ],
 "metadata": {
  "kernelspec": {
   "display_name": "Python 3",
   "language": "python",
   "name": "python3"
  },
  "language_info": {
   "codemirror_mode": {
    "name": "ipython",
    "version": 3
   },
   "file_extension": ".py",
   "mimetype": "text/x-python",
   "name": "python",
   "nbconvert_exporter": "python",
   "pygments_lexer": "ipython3",
   "version": "3.8.2"
  }
 },
 "nbformat": 4,
 "nbformat_minor": 2
}
